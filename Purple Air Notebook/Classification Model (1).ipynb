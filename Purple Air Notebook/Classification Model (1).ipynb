{
 "cells": [
  {
   "cell_type": "code",
   "execution_count": 2,
   "id": "9e2943b1",
   "metadata": {},
   "outputs": [
    {
     "name": "stdout",
     "output_type": "stream",
     "text": [
      "0.9222894369474174\n"
     ]
    }
   ],
   "source": [
    "import numpy as np\n",
    "import matplotlib.pyplot as plt\n",
    "import pandas as pd\n",
    "from sklearn.model_selection import train_test_split\n",
    "import sklearn\n",
    "from sklearn.tree import DecisionTreeClassifier\n",
    "from sklearn.ensemble import RandomForestClassifier\n",
    "from sklearn.metrics import accuracy_score\n",
    "\n",
    "data = pd.read_csv('PurpleAir_Data_fixed.csv')\n",
    "\n",
    "x = data.iloc[:, 1:8].values\n",
    "\n",
    "y = data['Category']\n",
    "#Encode categorical data (month names)\n",
    "\n",
    "from sklearn.compose import ColumnTransformer\n",
    "from sklearn.preprocessing import OneHotEncoder\n",
    "\n",
    "# ct = ColumnTransformer(transformers=[('encoder', OneHotEncoder(), [0])], remainder='passthrough')\n",
    "# x = np.array(ct.fit_transform(x))\n",
    "#Split data into testing and training \n",
    "x_train, x_test, y_train, y_test = train_test_split(x, y, test_size = 0.2, random_state = 0)\n",
    "\n",
    "classifier = RandomForestClassifier()\n",
    "\n",
    "classifier.fit(x_train, y_train)\n",
    "\n",
    "# month = input(\"Enter the month: \")\n",
    "# year = input(\"Enter the year: \")\n",
    "# day = input(\"Enter the day: \")\n",
    "# weekend = input(\"Weekend/Weekday? (no= 0, yes=1): \")\n",
    "# hour = input(\"Enter the hour (HHMMSS): \")\n",
    "# temp = input(\"Enter the temperature: \")\n",
    "# humidity = input(\"Enter the humidity: \")\n",
    "\n",
    "#prediction = classifier.predict([[month, year, day, weekend, hour, temp, humidity]])\n",
    "\n",
    "prediction = classifier.predict(x_test)\n",
    "\n",
    "score = accuracy_score(y_test, prediction)\n",
    "print(score)\n",
    "\n",
    "#print(\"The Air Quality is: \" + prediction)\n"
   ]
  },
  {
   "cell_type": "code",
   "execution_count": null,
   "id": "0f600ff4",
   "metadata": {},
   "outputs": [],
   "source": []
  }
 ],
 "metadata": {
  "kernelspec": {
   "display_name": "conda_python3",
   "language": "python",
   "name": "conda_python3"
  },
  "language_info": {
   "codemirror_mode": {
    "name": "ipython",
    "version": 3
   },
   "file_extension": ".py",
   "mimetype": "text/x-python",
   "name": "python",
   "nbconvert_exporter": "python",
   "pygments_lexer": "ipython3",
   "version": "3.6.13"
  }
 },
 "nbformat": 4,
 "nbformat_minor": 5
}
