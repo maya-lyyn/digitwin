{
 "cells": [
  {
   "cell_type": "code",
   "execution_count": 7,
   "id": "6b14612b",
   "metadata": {},
   "outputs": [
    {
     "name": "stdout",
     "output_type": "stream",
     "text": [
      "0.9435318044154174\n",
      "[23.26 19.62 53.95 ... 21.   27.61 29.7 ]\n",
      "[28 19 59 ... 18 23 30]\n"
     ]
    },
    {
     "data": {
      "text/plain": [
       "['joblib_regression.sav']"
      ]
     },
     "execution_count": 7,
     "metadata": {},
     "output_type": "execute_result"
    }
   ],
   "source": [
    "import numpy as np\n",
    "import matplotlib.pyplot as plt\n",
    "import pandas as pd\n",
    "from sklearn.model_selection import train_test_split\n",
    "import sklearn\n",
    "from sklearn.ensemble import RandomForestRegressor\n",
    "import aqi\n",
    "import joblib\n",
    "\n",
    "\n",
    "#import the Purple Air data from a csv file\n",
    "#Note--most accurate model was using the last observed values to fill in missing data\n",
    "data = pd.read_csv('PurpleAir_data.csv')\n",
    "\n",
    "#split data into two sets - input (x) and output (y) vlaues where x represents year/month/week/day/hr/temp/humidity \n",
    "#and y represents the corresponding PM2.5 values\n",
    "\n",
    "x = data.iloc[:, 1:9].values\n",
    "\n",
    "y = data.iloc[:, -4].values\n",
    "\n",
    "#Split data into testing and training \n",
    "x_train, x_test, y_train, y_test = train_test_split(x, y, test_size = 0.2, random_state = 0)\n",
    "#Decision tree regression chosen due to dynamic nature of data\n",
    "\n",
    "from sklearn.tree import DecisionTreeRegressor\n",
    "\n",
    "regressor = RandomForestRegressor(random_state = 0)\n",
    "\n",
    "regressor.fit(x_train, y_train)\n",
    "\n",
    "\n",
    "prediction = regressor.predict(x_test)\n",
    "\n",
    "score = sklearn.metrics.r2_score(y_test, prediction, sample_weight=None)\n",
    "\n",
    "print(score)\n",
    "\n",
    "print(prediction)\n",
    "print(y_test)\n",
    "\n",
    "filename = 'joblib_regression.sav'\n",
    "joblib.dump(regressor, filename)\n"
   ]
  },
  {
   "cell_type": "code",
   "execution_count": 3,
   "id": "e746a249",
   "metadata": {},
   "outputs": [
    {
     "name": "stdout",
     "output_type": "stream",
     "text": [
      "Collecting python-aqi\n",
      "  Downloading python-aqi-0.6.1.tar.gz (9.0 kB)\n",
      "Building wheels for collected packages: python-aqi\n",
      "  Building wheel for python-aqi (setup.py) ... \u001b[?25ldone\n",
      "\u001b[?25h  Created wheel for python-aqi: filename=python_aqi-0.6.1-py3-none-any.whl size=9658 sha256=46b7192aa42b139ff22af112f92b91b90bb5677e5bb92dcc6b31277eca7f3f59\n",
      "  Stored in directory: /home/ec2-user/.cache/pip/wheels/96/4e/a1/a74f0c1f7ba149647b8ef9e4eb60f67551e50903f6662703de\n",
      "Successfully built python-aqi\n",
      "Installing collected packages: python-aqi\n",
      "Successfully installed python-aqi-0.6.1\n",
      "\u001b[33mWARNING: You are using pip version 21.1.2; however, version 21.1.3 is available.\n",
      "You should consider upgrading via the '/home/ec2-user/anaconda3/envs/python3/bin/python -m pip install --upgrade pip' command.\u001b[0m\n"
     ]
    }
   ],
   "source": [
    "# Install a pip package in the current Jupyter kernel\n",
    "import sys\n",
    "!{sys.executable} -m pip install python-aqi"
   ]
  },
  {
   "cell_type": "code",
   "execution_count": null,
   "id": "cde9f5ab",
   "metadata": {},
   "outputs": [],
   "source": []
  }
 ],
 "metadata": {
  "kernelspec": {
   "display_name": "conda_python3",
   "language": "python",
   "name": "conda_python3"
  },
  "language_info": {
   "codemirror_mode": {
    "name": "ipython",
    "version": 3
   },
   "file_extension": ".py",
   "mimetype": "text/x-python",
   "name": "python",
   "nbconvert_exporter": "python",
   "pygments_lexer": "ipython3",
   "version": "3.6.13"
  }
 },
 "nbformat": 4,
 "nbformat_minor": 5
}
