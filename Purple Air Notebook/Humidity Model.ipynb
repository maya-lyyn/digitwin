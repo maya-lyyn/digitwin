{
 "cells": [
  {
   "cell_type": "code",
   "execution_count": 1,
   "id": "8bd08a84",
   "metadata": {},
   "outputs": [
    {
     "name": "stdout",
     "output_type": "stream",
     "text": [
      "[45.4918 21.1935 60.284  ... 60.471  66.9636 49.5841]\n",
      "[45.   20.42 61.23 ... 60.58 70.   50.64]\n"
     ]
    },
    {
     "data": {
      "text/plain": [
       "['joblib_regression_humidity.sav']"
      ]
     },
     "execution_count": 1,
     "metadata": {},
     "output_type": "execute_result"
    }
   ],
   "source": [
    "#This model takes in the date and AQI to predict the temperature \n",
    "import numpy as np\n",
    "import pandas as pd\n",
    "from sklearn.model_selection import train_test_split\n",
    "import sklearn\n",
    "from sklearn.ensemble import RandomForestRegressor\n",
    "import joblib\n",
    "\n",
    "data = pd.read_csv('PurpleAir_data.csv')\n",
    "\n",
    "x = data.iloc[:, 1:7].values\n",
    "\n",
    "y = data.iloc[:, -5].values\n",
    "\n",
    "x_train, x_test, y_train, y_test = train_test_split(x, y, test_size = 0.2, random_state = 0)\n",
    "\n",
    "regressor = RandomForestRegressor(random_state = 0)\n",
    "\n",
    "regressor.fit(x_train, y_train)\n",
    "\n",
    "predict = regressor.predict(x_test)\n",
    "\n",
    "print(predict)\n",
    "print(y_test)\n",
    "\n",
    "filename = 'joblib_regression_humidity.sav'\n",
    "joblib.dump(regressor, filename)"
   ]
  },
  {
   "cell_type": "code",
   "execution_count": null,
   "id": "cbc06f0c",
   "metadata": {},
   "outputs": [],
   "source": []
  }
 ],
 "metadata": {
  "kernelspec": {
   "display_name": "conda_python3",
   "language": "python",
   "name": "conda_python3"
  },
  "language_info": {
   "codemirror_mode": {
    "name": "ipython",
    "version": 3
   },
   "file_extension": ".py",
   "mimetype": "text/x-python",
   "name": "python",
   "nbconvert_exporter": "python",
   "pygments_lexer": "ipython3",
   "version": "3.6.13"
  }
 },
 "nbformat": 4,
 "nbformat_minor": 5
}
