{
 "cells": [
  {
   "cell_type": "code",
   "execution_count": 4,
   "id": "2256fd60",
   "metadata": {},
   "outputs": [
    {
     "name": "stdout",
     "output_type": "stream",
     "text": [
      "                            Month  year  day  hour  min  seconds  Day of Week  \\\n",
      "Datetime                                                                        \n",
      "2019-01-01 00:00:00.000000      1  2019    1     0    0        0            3   \n",
      "2019-01-01 00:59:59.999999      1  2019    1     1    0       59            3   \n",
      "2019-01-01 02:00:00.000001      1  2019    1     2    0        0            3   \n",
      "2019-01-01 03:00:00.000000      1  2019    1     3    0        0            3   \n",
      "2019-01-01 03:59:59.999999      1  2019    1     4    0       59            3   \n",
      "...                           ...   ...  ...   ...  ...      ...          ...   \n",
      "2019-12-31 18:59:59.999999     12  2019   31    19    0       59            3   \n",
      "2019-12-31 20:00:00.000001     12  2019   31    20    0        0            3   \n",
      "2019-12-31 21:00:00.000000     12  2019   31    21    0        0            3   \n",
      "2019-12-31 21:59:59.999999     12  2019   31    22    0       59            3   \n",
      "2019-12-31 23:00:00.000001     12  2019   31    23    0        0            3   \n",
      "\n",
      "                            Weekend  AQI Level of Health Concern  \n",
      "Datetime                                                          \n",
      "2019-01-01 00:00:00.000000    False    4                    Good  \n",
      "2019-01-01 00:59:59.999999    False   25                    Good  \n",
      "2019-01-01 02:00:00.000001    False   25                    Good  \n",
      "2019-01-01 03:00:00.000000    False   25                    Good  \n",
      "2019-01-01 03:59:59.999999    False   25                    Good  \n",
      "...                             ...  ...                     ...  \n",
      "2019-12-31 18:59:59.999999    False    8                    Good  \n",
      "2019-12-31 20:00:00.000001    False    4                    Good  \n",
      "2019-12-31 21:00:00.000000    False    8                    Good  \n",
      "2019-12-31 21:59:59.999999    False    4                    Good  \n",
      "2019-12-31 23:00:00.000001    False   21                    Good  \n",
      "\n",
      "[8497 rows x 10 columns] \n",
      "                      Temp(F)  RH(%)\n",
      "Datetime                           \n",
      "2019-01-01 00:00:00     50.5    NaN\n",
      "2019-01-01 01:00:00     54.7    NaN\n",
      "2019-01-01 02:00:00     57.6    NaN\n",
      "2019-01-01 03:00:00     59.7   85.8\n",
      "2019-01-01 04:00:00     60.6   84.1\n",
      "...                      ...    ...\n",
      "2019-12-31 19:00:00     49.5   40.7\n",
      "2019-12-31 20:00:00     47.5   42.1\n",
      "2019-12-31 21:00:00     45.5   44.4\n",
      "2019-12-31 22:00:00     45.1   45.3\n",
      "2019-12-31 23:00:00      NaN   46.1\n",
      "\n",
      "[8710 rows x 2 columns]\n"
     ]
    }
   ],
   "source": [
    "import pandas as pd\n",
    "import numpy as np\n",
    "\n",
    "df = pd.read_excel('temp and humid epa.xlsx',engine='openpyxl')\n",
    "df.drop(df.columns.difference(['Datetime','Temp(F)','RH(%)']), 1, inplace=True)\n",
    "df1=pd.read_excel('class_epa_aqi (1) (1).xlsx',engine='openpyxl')\n",
    "df.set_index(['Datetime'],inplace=True)\n",
    "df1.set_index(['Datetime'],inplace=True)\n",
    "print(df1,'\\n',df)"
   ]
  },
  {
   "cell_type": "code",
   "execution_count": 9,
   "id": "0dbafeaa",
   "metadata": {},
   "outputs": [
    {
     "name": "stdout",
     "output_type": "stream",
     "text": [
      "0 days 00:00:00.000001\n"
     ]
    }
   ],
   "source": [
    "C=df.index\n",
    "D=df1.index\n",
    "print(C[1]-D[1])\n"
   ]
  },
  {
   "cell_type": "code",
   "execution_count": null,
   "id": "08768507",
   "metadata": {},
   "outputs": [],
   "source": [
    "f=[]\n",
    "\n",
    "for x in C:\n",
    "  for y in D:\n",
    "    if x==y:\n",
    "     f.append(y)\n"
   ]
  },
  {
   "cell_type": "code",
   "execution_count": 85,
   "id": "4c59ccf9",
   "metadata": {},
   "outputs": [],
   "source": [
    "F=df['Temp(F)'];G=df['RH(%)'] \n",
    "h=[];g=[];k=[]\n",
    "for x in f:\n",
    "    k.append(x)\n",
    "    h.append(F[x])\n",
    "    g.append(G[x])"
   ]
  },
  {
   "cell_type": "code",
   "execution_count": 86,
   "id": "18eb744a",
   "metadata": {},
   "outputs": [],
   "source": [
    "\n",
    "new_data={\n",
    "    \"Datetime\":k,\n",
    "    \"Temp(F)\":h,\n",
    "    \"RH(%)\":g   \n",
    "}"
   ]
  },
  {
   "cell_type": "code",
   "execution_count": 87,
   "id": "89cf98cd",
   "metadata": {},
   "outputs": [
    {
     "name": "stdout",
     "output_type": "stream",
     "text": [
      "                Datetime  Temp(F)  RH(%)\n",
      "0    2019-01-01 00:00:00     50.5    NaN\n",
      "1    2019-01-01 01:00:00     54.7    NaN\n",
      "2    2019-01-01 02:00:00     57.6    NaN\n",
      "3    2019-01-01 03:00:00     59.7   85.8\n",
      "4    2019-01-01 04:00:00     60.6   84.1\n",
      "...                  ...      ...    ...\n",
      "8440 2019-12-31 19:00:00     49.5   40.7\n",
      "8441 2019-12-31 20:00:00     47.5   42.1\n",
      "8442 2019-12-31 21:00:00     45.5   44.4\n",
      "8443 2019-12-31 22:00:00     45.1   45.3\n",
      "8444 2019-12-31 23:00:00      NaN   46.1\n",
      "\n",
      "[8445 rows x 3 columns]\n"
     ]
    }
   ],
   "source": [
    "d=pd.DataFrame(new_data)\n",
    "print(d)"
   ]
  },
  {
   "cell_type": "code",
   "execution_count": 2,
   "id": "b45b110b",
   "metadata": {},
   "outputs": [],
   "source": [
    "\n",
    "def daterange(start_date, end_date):\n",
    "    delta = timedelta(hours=1)\n",
    "    while start_date < end_date:\n",
    "        yield start_date\n",
    "        start_date += delta\n",
    "        \n",
    "        \n",
    "from datetime import datetime, timedelta\n",
    "\n",
    "start_date = datetime(2019, 1, 1, 00, 00)\n",
    "end_date = datetime(2019, 12, 31, 23, 00)\n",
    "P=[]\n",
    "for single_date in daterange(start_date, end_date):\n",
    "    P.append(single_date.strftime(\"%Y-%m-%d %H:%M:%S\"))"
   ]
  },
  {
   "cell_type": "code",
   "execution_count": null,
   "id": "68f3bab0",
   "metadata": {},
   "outputs": [],
   "source": [
    "N=[]\n",
    "for x in P:\n",
    "  for y in C:\n",
    "    if x!= y:\n",
    "     N.append(y)\n"
   ]
  },
  {
   "cell_type": "code",
   "execution_count": null,
   "id": "468cce80",
   "metadata": {},
   "outputs": [],
   "source": [
    "d.to_excel('temp_humid_19.xlsx',index = False)"
   ]
  }
 ],
 "metadata": {
  "kernelspec": {
   "display_name": "conda_python3",
   "language": "python",
   "name": "conda_python3"
  },
  "language_info": {
   "codemirror_mode": {
    "name": "ipython",
    "version": 3
   },
   "file_extension": ".py",
   "mimetype": "text/x-python",
   "name": "python",
   "nbconvert_exporter": "python",
   "pygments_lexer": "ipython3",
   "version": "3.6.13"
  }
 },
 "nbformat": 4,
 "nbformat_minor": 5
}
