{
 "cells": [
  {
   "cell_type": "code",
   "execution_count": 1,
   "id": "7f076a5d",
   "metadata": {},
   "outputs": [],
   "source": [
    "import pandas as pd\n",
    "import numpy as np\n",
    "from sklearn.model_selection import train_test_split\n",
    "\n",
    "#read excel file into pandas dataframe\n",
    "df=pd.read_excel('trial_redun_temp_humid.xlsx',engine='openpyxl')"
   ]
  },
  {
   "cell_type": "code",
   "execution_count": 2,
   "id": "6c91035d",
   "metadata": {},
   "outputs": [
    {
     "name": "stdout",
     "output_type": "stream",
     "text": [
      "[[6 7 2019 ... False 72.9 74.5]\n",
      " [11 27 2019 ... False 57.4 73.6]\n",
      " [6 5 2019 ... False 73.6 66.1]\n",
      " ...\n",
      " [9 24 2019 ... False 78.4 31.5]\n",
      " [10 8 2019 ... False 60.8 74.0]\n",
      " [1 25 2019 ... False 34.9 59.0]]\n"
     ]
    }
   ],
   "source": [
    "#Setting Predictors\n",
    "X=df.drop(columns=['AQI','Datetime','Level of Health Concern']).values\n",
    "\n",
    "#Setting Target\n",
    "Y=df['AQI'].values\n",
    "\n",
    "#Splitting dataset into Train and Test\n",
    "X_train, X_test, Y_train, Y_test = train_test_split(X, Y, test_size = 0.2, random_state = 42)\n",
    "print(X_test)\n"
   ]
  },
  {
   "cell_type": "code",
   "execution_count": 3,
   "id": "cc53e7d0",
   "metadata": {},
   "outputs": [
    {
     "data": {
      "text/plain": [
       "RandomForestRegressor(random_state=42)"
      ]
     },
     "execution_count": 3,
     "metadata": {},
     "output_type": "execute_result"
    }
   ],
   "source": [
    "# Building  Random Forest Classifier\n",
    "from sklearn.ensemble import RandomForestRegressor\n",
    "rfr = RandomForestRegressor(random_state =42 )\n",
    "rfr.fit(X_train, Y_train)"
   ]
  },
  {
   "cell_type": "code",
   "execution_count": 4,
   "id": "a0095204",
   "metadata": {},
   "outputs": [
    {
     "name": "stdout",
     "output_type": "stream",
     "text": [
      "2.6321801152052537\n",
      "0.9837024283278416\n",
      "6.68424317962608\n",
      "0.8930231777337199\n"
     ]
    }
   ],
   "source": [
    "# Evaluating on Training set\n",
    "rfr_pred_train = rfr.predict(X_train)\n",
    "from sklearn.metrics import r2_score\n",
    "from sklearn.metrics import mean_squared_error\n",
    "print(np.sqrt(mean_squared_error(Y_train,rfr_pred_train)))\n",
    "print(r2_score(Y_train,rfr_pred_train))\n",
    "\n",
    "\n",
    "# Evaluating on Test set\n",
    "rfr_pred_test = rfr.predict(X_test)\n",
    "print(np.sqrt(mean_squared_error(Y_test,rfr_pred_test)))\n",
    "print(r2_score(Y_test,rfr_pred_test))"
   ]
  },
  {
   "cell_type": "code",
   "execution_count": 5,
   "id": "f86a2795",
   "metadata": {},
   "outputs": [],
   "source": [
    "#Saving to S3\n",
    "import tempfile\n",
    "import joblib\n",
    "import boto3\n",
    "s3 = boto3.resource('s3')\n",
    "bucket='digitwin-airqualitydata'\n",
    "key='EPA_data/EPA_rfr_temp_humid.sav'\n",
    "\n",
    "# WRITE\n",
    "with tempfile.TemporaryFile() as fp:\n",
    "    joblib.dump(rfr, fp)\n",
    "    fp.seek(0)\n",
    "    s3.Bucket(bucket).put_object(Key= key, Body=fp.read())\n"
   ]
  },
  {
   "cell_type": "code",
   "execution_count": null,
   "id": "ba5ab715",
   "metadata": {},
   "outputs": [],
   "source": []
  }
 ],
 "metadata": {
  "kernelspec": {
   "display_name": "conda_python3",
   "language": "python",
   "name": "conda_python3"
  },
  "language_info": {
   "codemirror_mode": {
    "name": "ipython",
    "version": 3
   },
   "file_extension": ".py",
   "mimetype": "text/x-python",
   "name": "python",
   "nbconvert_exporter": "python",
   "pygments_lexer": "ipython3",
   "version": "3.6.13"
  }
 },
 "nbformat": 4,
 "nbformat_minor": 5
}
