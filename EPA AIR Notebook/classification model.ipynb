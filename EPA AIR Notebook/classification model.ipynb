{
 "cells": [
  {
   "cell_type": "code",
   "execution_count": 1,
   "id": "c1a2000e",
   "metadata": {},
   "outputs": [],
   "source": [
    "import pandas as pd\n",
    "from sklearn.tree import DecisionTreeClassifier # Import Decision Tree Classifier\n",
    "from sklearn.ensemble import RandomForestClassifier #Import Random Forest Classifier\n",
    "from sklearn.model_selection import train_test_split # Import train_test_split function\n",
    "from sklearn import metrics #Import scikit-learn metrics module for accuracy calculation\n",
    "import numpy as np"
   ]
  },
  {
   "cell_type": "code",
   "execution_count": 2,
   "id": "1161e7c4",
   "metadata": {},
   "outputs": [],
   "source": [
    "df=pd.read_excel('class_epa_aqi (1).xlsx',engine='openpyxl')\n"
   ]
  },
  {
   "cell_type": "code",
   "execution_count": 3,
   "id": "0e26b93f",
   "metadata": {},
   "outputs": [
    {
     "name": "stdout",
     "output_type": "stream",
     "text": [
      "[[2019 22 2 ... 1 True 9]\n",
      " [2019 17 2 ... 1 True 2]\n",
      " [2019 6 5 ... 4 False 3]\n",
      " ...\n",
      " [2019 24 2 ... 4 False 7]\n",
      " [2019 11 22 ... 7 True 5]\n",
      " [2019 27 7 ... 5 False 6]]\n"
     ]
    }
   ],
   "source": [
    "#predictors\n",
    "X=df.drop(columns=['AQI','Datetime','Month','Level of Health Concern']).values\n",
    "#Target\n",
    "Y=df['Level of Health Concern']\n",
    "#splitting data set into training and testing 80:20\n",
    "X_train, X_test, Y_train, Y_test = train_test_split(X, Y, test_size = 0.2, random_state = 42)\n",
    "print(X_test)"
   ]
  },
  {
   "cell_type": "markdown",
   "id": "5418b5b5",
   "metadata": {},
   "source": [
    "Decision Tree Classifier\n"
   ]
  },
  {
   "cell_type": "code",
   "execution_count": 4,
   "id": "45654c04",
   "metadata": {},
   "outputs": [],
   "source": [
    "dt = DecisionTreeClassifier(criterion = 'entropy', random_state = 42)\n",
    "dt.fit(X_train, Y_train)\n",
    "dt_pred_train = dt.predict(X_train)#training \n",
    "dt_pred_test = dt.predict(X_test)#testing\n"
   ]
  },
  {
   "cell_type": "code",
   "execution_count": 5,
   "id": "137b4c10",
   "metadata": {},
   "outputs": [
    {
     "name": "stdout",
     "output_type": "stream",
     "text": [
      "0.8429411764705882\n"
     ]
    }
   ],
   "source": [
    "#Evaluating Accuracy\n",
    "from sklearn.metrics import accuracy_score\n",
    "\n",
    "score = accuracy_score(Y_test,dt_pred_test )\n",
    "print(score)"
   ]
  },
  {
   "cell_type": "code",
   "execution_count": 6,
   "id": "07e4d244",
   "metadata": {},
   "outputs": [
    {
     "name": "stdout",
     "output_type": "stream",
     "text": [
      "Testing Set Evaluation F1-Score=> [0.90223881 0.62640449 0.25      ]\n"
     ]
    }
   ],
   "source": [
    "from sklearn.metrics import f1_score\n",
    "#print('Training Set Evaluation F1-Score=>',f1_score(Y_train,rfc_pred_train))\n",
    "print('Testing Set Evaluation F1-Score=>',f1_score(Y_test,dt_pred_test,average=None))"
   ]
  },
  {
   "cell_type": "markdown",
   "id": "b28657ff",
   "metadata": {},
   "source": [
    "Random Forest Classifier"
   ]
  },
  {
   "cell_type": "code",
   "execution_count": 7,
   "id": "99412ca3",
   "metadata": {},
   "outputs": [],
   "source": [
    "rfc=RandomForestClassifier(criterion = 'entropy', random_state = 42)\n",
    "rfc.fit(X_train, Y_train)\n",
    "rfc_pred_train = rfc.predict(X_train)#training \n",
    "rfc_pred_test = rfc.predict(X_test)#testing"
   ]
  },
  {
   "cell_type": "code",
   "execution_count": 8,
   "id": "5355ac12",
   "metadata": {},
   "outputs": [
    {
     "name": "stdout",
     "output_type": "stream",
     "text": [
      "0.8776470588235294\n"
     ]
    }
   ],
   "source": [
    "score = accuracy_score(Y_test,rfc_pred_test )\n",
    "print(score)"
   ]
  },
  {
   "cell_type": "code",
   "execution_count": null,
   "id": "78ccb7cd",
   "metadata": {},
   "outputs": [],
   "source": []
  }
 ],
 "metadata": {
  "kernelspec": {
   "display_name": "conda_python3",
   "language": "python",
   "name": "conda_python3"
  },
  "language_info": {
   "codemirror_mode": {
    "name": "ipython",
    "version": 3
   },
   "file_extension": ".py",
   "mimetype": "text/x-python",
   "name": "python",
   "nbconvert_exporter": "python",
   "pygments_lexer": "ipython3",
   "version": "3.6.13"
  }
 },
 "nbformat": 4,
 "nbformat_minor": 5
}
