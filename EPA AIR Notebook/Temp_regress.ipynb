{
 "cells": [
  {
   "cell_type": "code",
   "execution_count": 1,
   "id": "c60e3b6c",
   "metadata": {},
   "outputs": [],
   "source": [
    "import pandas as pd\n",
    "import numpy as np\n",
    "from sklearn.model_selection import train_test_split\n",
    "\n",
    "#read excel file into pandas dataframe\n",
    "df=pd.read_excel('t_19&20.xlsx',engine='openpyxl')\n",
    "\n"
   ]
  },
  {
   "cell_type": "code",
   "execution_count": 3,
   "id": "39773eb0",
   "metadata": {},
   "outputs": [
    {
     "name": "stdout",
     "output_type": "stream",
     "text": [
      "[[   9   16 2019    2    0    0]\n",
      " [  12    3 2019    6    0    0]\n",
      " [  10   30 2019   12    0    0]\n",
      " ...\n",
      " [   2    1 2019   20    0    0]\n",
      " [   5   30 2019    6    0    0]\n",
      " [  11   14 2019   12    0    0]]\n"
     ]
    }
   ],
   "source": [
    "\n",
    "#Setting Predictors\n",
    "X=df.drop(columns=['Datetime','Temp(F)']).values\n",
    "\n",
    "#Setting Target\n",
    "Y=df['Temp(F)'].values\n",
    "\n",
    "#Splitting dataset into Train and Test\n",
    "X_train, X_test, Y_train, Y_test = train_test_split(X, Y, test_size = 0.2, random_state = 42)\n",
    "print(X_test)"
   ]
  },
  {
   "cell_type": "code",
   "execution_count": 4,
   "id": "465bc0f8",
   "metadata": {},
   "outputs": [
    {
     "data": {
      "text/plain": [
       "RandomForestRegressor(random_state=42)"
      ]
     },
     "execution_count": 4,
     "metadata": {},
     "output_type": "execute_result"
    }
   ],
   "source": [
    "# Building  Random Forest Classifier\n",
    "from sklearn.ensemble import RandomForestRegressor\n",
    "rfr_temp = RandomForestRegressor(random_state =42 )\n",
    "rfr_temp.fit(X_train, Y_train)\n",
    "\n"
   ]
  },
  {
   "cell_type": "code",
   "execution_count": 5,
   "id": "fcec414f",
   "metadata": {},
   "outputs": [
    {
     "name": "stdout",
     "output_type": "stream",
     "text": [
      "1.1459808353046101\n",
      "0.9956813024701605\n",
      "3.0535080745872123\n",
      "0.969574436848327\n"
     ]
    }
   ],
   "source": [
    "# Evaluating on Training set\n",
    "rfr_pred_train = rfr_temp.predict(X_train)\n",
    "from sklearn.metrics import r2_score\n",
    "from sklearn.metrics import mean_squared_error\n",
    "print(np.sqrt(mean_squared_error(Y_train,rfr_pred_train)))\n",
    "print(r2_score(Y_train,rfr_pred_train))\n",
    "\n",
    "\n",
    "# Evaluating on Test set\n",
    "rfr_pred_test = rfr_temp.predict(X_test)\n",
    "print(np.sqrt(mean_squared_error(Y_test,rfr_pred_test)))\n",
    "print(r2_score(Y_test,rfr_pred_test))\n"
   ]
  },
  {
   "cell_type": "code",
   "execution_count": 6,
   "id": "f83d9465",
   "metadata": {},
   "outputs": [],
   "source": [
    "\n",
    "#Saving to S3\n",
    "import tempfile\n",
    "import joblib\n",
    "import boto3\n",
    "s3 = boto3.resource('s3')\n",
    "bucket='digitwin-airqualitydata'\n",
    "key='EPA_data/EPA_Temp_regress.sav'\n",
    "\n",
    "# WRITE\n",
    "with tempfile.TemporaryFile() as fp:\n",
    "    joblib.dump(rfr_temp, fp)\n",
    "    fp.seek(0)\n",
    "    s3.Bucket(bucket).put_object(Key= key, Body=fp.read())"
   ]
  },
  {
   "cell_type": "code",
   "execution_count": null,
   "id": "20dc7c64",
   "metadata": {},
   "outputs": [],
   "source": []
  }
 ],
 "metadata": {
  "kernelspec": {
   "display_name": "conda_python3",
   "language": "python",
   "name": "conda_python3"
  },
  "language_info": {
   "codemirror_mode": {
    "name": "ipython",
    "version": 3
   },
   "file_extension": ".py",
   "mimetype": "text/x-python",
   "name": "python",
   "nbconvert_exporter": "python",
   "pygments_lexer": "ipython3",
   "version": "3.6.13"
  }
 },
 "nbformat": 4,
 "nbformat_minor": 5
}
