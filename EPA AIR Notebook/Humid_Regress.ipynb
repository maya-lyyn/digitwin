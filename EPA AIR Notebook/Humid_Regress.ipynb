{
 "cells": [
  {
   "cell_type": "code",
   "execution_count": 1,
   "id": "54fd79f6",
   "metadata": {},
   "outputs": [],
   "source": [
    "import pandas as pd\n",
    "import numpy as np\n",
    "from sklearn.model_selection import train_test_split\n",
    "\n",
    "#read excel file into pandas dataframe\n",
    "df=pd.read_excel('h_19&20.xlsx',engine='openpyxl')\n",
    "\n"
   ]
  },
  {
   "cell_type": "code",
   "execution_count": 2,
   "id": "6408da00",
   "metadata": {},
   "outputs": [
    {
     "name": "stdout",
     "output_type": "stream",
     "text": [
      "[[  11   19 2020   20    0    0]\n",
      " [   6   20 2020   20    0    0]\n",
      " [   8   19 2019   21    0    0]\n",
      " ...\n",
      " [  12   14 2019    8    0    0]\n",
      " [   6   27 2019   21    0    0]\n",
      " [  10    1 2020    1    0    0]]\n"
     ]
    }
   ],
   "source": [
    "#Setting Predictors\n",
    "X=df.drop(columns=['Datetime','RH(%)']).values\n",
    "\n",
    "#Setting Target\n",
    "Y=df['RH(%)'].values\n",
    "\n",
    "#Splitting dataset into Train and Test\n",
    "X_train, X_test, Y_train, Y_test = train_test_split(X, Y, test_size = 0.2, random_state = 42)\n",
    "print(X_test)\n",
    "\n"
   ]
  },
  {
   "cell_type": "code",
   "execution_count": 3,
   "id": "9fc41d1c",
   "metadata": {},
   "outputs": [
    {
     "data": {
      "text/plain": [
       "RandomForestRegressor(random_state=42)"
      ]
     },
     "execution_count": 3,
     "metadata": {},
     "output_type": "execute_result"
    }
   ],
   "source": [
    "\n",
    "# Building  Random Forest Classifier\n",
    "from sklearn.ensemble import RandomForestRegressor\n",
    "rfr_hum = RandomForestRegressor(random_state =42 )\n",
    "rfr_hum.fit(X_train, Y_train)\n"
   ]
  },
  {
   "cell_type": "code",
   "execution_count": 4,
   "id": "0b92d31b",
   "metadata": {},
   "outputs": [
    {
     "name": "stdout",
     "output_type": "stream",
     "text": [
      "1.3925489779084708\n",
      "0.9944086194643275\n",
      "3.5515513383828563\n",
      "0.9636627031225364\n"
     ]
    }
   ],
   "source": [
    "\n",
    "# Evaluating on Training set\n",
    "rfr_pred_train = rfr_hum.predict(X_train)\n",
    "from sklearn.metrics import r2_score\n",
    "from sklearn.metrics import mean_squared_error\n",
    "print(np.sqrt(mean_squared_error(Y_train,rfr_pred_train)))\n",
    "print(r2_score(Y_train,rfr_pred_train))\n",
    "\n",
    "\n",
    "# Evaluating on Test set\n",
    "rfr_pred_test = rfr_hum.predict(X_test)\n",
    "print(np.sqrt(mean_squared_error(Y_test,rfr_pred_test)))\n",
    "print(r2_score(Y_test,rfr_pred_test))\n",
    "\n"
   ]
  },
  {
   "cell_type": "code",
   "execution_count": 5,
   "id": "336c1ac5",
   "metadata": {},
   "outputs": [],
   "source": [
    "#Saving to S3\n",
    "import tempfile\n",
    "import joblib\n",
    "import boto3\n",
    "s3 = boto3.resource('s3')\n",
    "bucket='digitwin-airqualitydata'\n",
    "key='EPA_data/EPA_humid_regress.sav'\n",
    "\n",
    "# WRITE\n",
    "with tempfile.TemporaryFile() as fp:\n",
    "    joblib.dump(rfr_hum, fp)\n",
    "    fp.seek(0)\n",
    "    s3.Bucket(bucket).put_object(Key= key, Body=fp.read())"
   ]
  },
  {
   "cell_type": "code",
   "execution_count": null,
   "id": "4dc3242a",
   "metadata": {},
   "outputs": [],
   "source": []
  }
 ],
 "metadata": {
  "kernelspec": {
   "display_name": "conda_python3",
   "language": "python",
   "name": "conda_python3"
  },
  "language_info": {
   "codemirror_mode": {
    "name": "ipython",
    "version": 3
   },
   "file_extension": ".py",
   "mimetype": "text/x-python",
   "name": "python",
   "nbconvert_exporter": "python",
   "pygments_lexer": "ipython3",
   "version": "3.6.13"
  }
 },
 "nbformat": 4,
 "nbformat_minor": 5
}
